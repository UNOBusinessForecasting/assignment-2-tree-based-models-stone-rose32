{
  "cells": [
    {
      "cell_type": "code",
      "execution_count": 70,
      "id": "098b2971-5d7a-4d7f-aec2-3400a31a72b0",
      "metadata": {
        "id": "098b2971-5d7a-4d7f-aec2-3400a31a72b0"
      },
      "outputs": [],
      "source": [
        "from sklearn.tree import DecisionTreeClassifier\n",
        "from sklearn.metrics import accuracy_score\n",
        "from sklearn.model_selection import train_test_split\n",
        "import pandas as pd\n",
        "import numpy as np\n",
        "import patsy as pt\n",
        "\n",
        "data = pd.read_csv('https://github.com/dustywhite7/Econ8310/raw/master/AssignmentData/assignment3.csv')\n",
        "data['DateTime'] = pd.to_datetime(data['DateTime'])\n",
        "data = data.drop('id', axis = 'columns')\n",
        "data['day'] = data['DateTime'].dt.day\n",
        "data['month'] = data['DateTime'].dt.month\n",
        "data['year'] = data['DateTime'].dt.year\n",
        "data['hour'] = data['DateTime'].dt.hour\n",
        "data = data.drop('DateTime', axis = 'columns')\n",
        "\n",
        "Y = data['meal']\n",
        "X = data.drop('meal', axis = 'columns')"
      ]
    },
    {
      "cell_type": "code",
      "source": [
        "model = DecisionTreeClassifier()\n",
        "\n",
        "modelFit = model.fit(X,Y)\n",
        "\n",
        "print(\"\\n\\nIn-sample accuracy: %s%%\\n\\n\"\n",
        " % str(round(100*accuracy_score(Y, model.predict(X)), 2)))"
      ],
      "metadata": {
        "id": "1pI-Urviyb5w",
        "colab": {
          "base_uri": "https://localhost:8080/"
        },
        "outputId": "afed99e8-f78a-44aa-d1ff-36a5a7d6bb23"
      },
      "id": "1pI-Urviyb5w",
      "execution_count": 71,
      "outputs": [
        {
          "output_type": "stream",
          "name": "stdout",
          "text": [
            "\n",
            "\n",
            "In-sample accuracy: 99.65%\n",
            "\n",
            "\n"
          ]
        }
      ]
    },
    {
      "cell_type": "code",
      "source": [
        "test_data = pd.read_csv('https://github.com/dustywhite7/Econ8310/raw/master/AssignmentData/assignment3test.csv')\n",
        "test_data['DateTime'] = pd.to_datetime(test_data['DateTime'])\n",
        "test_data = test_data.drop('id', axis = 'columns')\n",
        "test_data['day'] = test_data['DateTime'].dt.day\n",
        "test_data['month'] = test_data['DateTime'].dt.month\n",
        "test_data['year'] = test_data['DateTime'].dt.year\n",
        "test_data['hour'] = test_data['DateTime'].dt.hour\n",
        "test_data = test_data.drop('DateTime', axis = 'columns')\n",
        "\n",
        "test_X = test_data.drop('meal', axis = 'columns')"
      ],
      "metadata": {
        "id": "uFGl0mEn9q-p"
      },
      "id": "uFGl0mEn9q-p",
      "execution_count": 72,
      "outputs": []
    },
    {
      "cell_type": "code",
      "source": [
        "pred = model.predict(test_X)"
      ],
      "metadata": {
        "id": "wkScmDbjDG9A"
      },
      "id": "wkScmDbjDG9A",
      "execution_count": 75,
      "outputs": []
    }
  ],
  "metadata": {
    "kernelspec": {
      "display_name": "Python 3 (ipykernel)",
      "language": "python",
      "name": "python3"
    },
    "language_info": {
      "codemirror_mode": {
        "name": "ipython",
        "version": 3
      },
      "file_extension": ".py",
      "mimetype": "text/x-python",
      "name": "python",
      "nbconvert_exporter": "python",
      "pygments_lexer": "ipython3",
      "version": "3.9.13"
    },
    "colab": {
      "provenance": []
    }
  },
  "nbformat": 4,
  "nbformat_minor": 5
}